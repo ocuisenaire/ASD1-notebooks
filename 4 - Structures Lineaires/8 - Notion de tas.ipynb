{
 "cells": [
  {
   "cell_type": "markdown",
   "metadata": {
    "slideshow": {
     "slide_type": "slide"
    }
   },
   "source": [
    "# Tas (Heap)"
   ]
  },
  {
   "cell_type": "code",
   "execution_count": 1,
   "metadata": {
    "slideshow": {
     "slide_type": "skip"
    }
   },
   "outputs": [],
   "source": [
    "import include.tas as h"
   ]
  },
  {
   "cell_type": "markdown",
   "metadata": {
    "slideshow": {
     "slide_type": "slide"
    }
   },
   "source": [
    "Un **tas** est un tableau que l'on se représente comme un arbre binaire complet. \n",
    "\n",
    "Il respecte la **condition de tas** \n",
    "\n",
    "* tout élément est plus grand (ou égal) que ses enfants\n",
    "* tout élément est plus petit (ou égal) que son parent \n",
    "\n",
    "Par exemple, le tableau suivant est un tas"
   ]
  },
  {
   "cell_type": "code",
   "execution_count": 2,
   "metadata": {},
   "outputs": [
    {
     "data": {
      "image/png": "[encoded data removed]",
      "text/plain": [
       "<IPython.core.display.Image object>"
      ]
     },
     "metadata": {},
     "output_type": "display_data"
    }
   ],
   "source": [
    "T = [ 16, 10, 14, 8, 2, 12, 6, 4]\n",
    "h.afficher_tas(T)"
   ]
  },
  {
   "cell_type": "markdown",
   "metadata": {
    "slideshow": {
     "slide_type": "slide"
    }
   },
   "source": [
    "## Parenté (implicite)\n",
    "\n",
    "Pour un tas dont les indices sont numérotés de $0$ à $n-1$, les relations de parenté s'écrivent"
   ]
  },
  {
   "cell_type": "code",
   "execution_count": 3,
   "metadata": {},
   "outputs": [],
   "source": [
    "def parent(i): \n",
    "    return (i-1) // 2\n",
    "def enfants(i): \n",
    "    return 2*i+1, 2*i+2"
   ]
  },
  {
   "cell_type": "code",
   "execution_count": 4,
   "metadata": {},
   "outputs": [
    {
     "data": {
      "image/png": "[encoded data removed]",
      "text/plain": [
       "<IPython.core.display.Image object>"
      ]
     },
     "metadata": {},
     "output_type": "display_data"
    }
   ],
   "source": [
    "I0 = [ 0, 1, 2, 3, 4, 5, 6, 7, 8 ]\n",
    "h.afficher_tas(I0)"
   ]
  },
  {
   "cell_type": "markdown",
   "metadata": {
    "slideshow": {
     "slide_type": "slide"
    }
   },
   "source": [
    "## Insertion\n",
    "\n",
    "L'insertion d'un élément dans le tas s'effectue en deux étapes\n",
    "* insertion de l'élément en queue de tableau. \n",
    "* rétablissement de la condition de tas"
   ]
  },
  {
   "cell_type": "code",
   "execution_count": 5,
   "metadata": {},
   "outputs": [
    {
     "name": "stdout",
     "output_type": "stream",
     "text": [
      "[16, 10, 14, 8, 2, 12, 6, 4, 13]\n"
     ]
    },
    {
     "data": {
      "image/png": "[encoded data removed]",
      "text/plain": [
       "<IPython.core.display.Image object>"
      ]
     },
     "metadata": {},
     "output_type": "display_data"
    }
   ],
   "source": [
    "T.append(13); print(T); h.afficher_tas(T) \n",
    "# 13 ne respecte pas la condition de tas"
   ]
  },
  {
   "cell_type": "markdown",
   "metadata": {
    "slideshow": {
     "slide_type": "subslide"
    }
   },
   "source": [
    "Pour rétablir la condition de tas, il faut faire **remonter** l'élément dans le tas en l'échangeant avec son parent jusqu'à ce qu'il \n",
    "\n",
    "* soit plus petit que son parent\n",
    "* ou aie atteint le sommet du tas"
   ]
  },
  {
   "cell_type": "code",
   "execution_count": 6,
   "metadata": {},
   "outputs": [],
   "source": [
    "def remonter(T,i):\n",
    "    p = parent(i)\n",
    "    while i > 0 and T[p] < T[i]:\n",
    "        print(\"swap({},{})\".format(T[i],T[p]))\n",
    "        T[p],T[i] = T[i],T[p]\n",
    "        i = p; p = parent(i)"
   ]
  },
  {
   "cell_type": "code",
   "execution_count": 7,
   "metadata": {
    "slideshow": {
     "slide_type": "subslide"
    }
   },
   "outputs": [
    {
     "name": "stdout",
     "output_type": "stream",
     "text": [
      "[16, 10, 14, 8, 2, 12, 6, 4, 13]\n",
      "swap(13,8)\n",
      "swap(13,10)\n",
      "[16, 13, 14, 10, 2, 12, 6, 4, 8]\n"
     ]
    },
    {
     "data": {
      "image/png": "[encoded data removed]",
      "text/plain": [
       "<IPython.core.display.Image object>"
      ]
     },
     "metadata": {},
     "output_type": "display_data"
    }
   ],
   "source": [
    "print(T)\n",
    "remonter(T,len(T)-1)\n",
    "print(T)\n",
    "h.afficher_tas(T)"
   ]
  },
  {
   "cell_type": "markdown",
   "metadata": {
    "slideshow": {
     "slide_type": "subslide"
    }
   },
   "source": [
    "L'insertion d'un élément dans le tas s'écrit donc "
   ]
  },
  {
   "cell_type": "code",
   "execution_count": 8,
   "metadata": {},
   "outputs": [],
   "source": [
    "def inserer_dans_tas(T,val):\n",
    "    T.append(val)\n",
    "    remonter(T,len(T)-1)"
   ]
  },
  {
   "cell_type": "markdown",
   "metadata": {},
   "source": [
    "La complexité de l'opération est \n",
    "\n",
    "* $\\Theta(1)$ en moyenne pour `T.append(val)`\n",
    "* $\\Theta(\\log n)$ au pire pour `remonter(T,n)`\n",
    "\n",
    "Elle est donc logarithmique"
   ]
  },
  {
   "cell_type": "markdown",
   "metadata": {
    "slideshow": {
     "slide_type": "slide"
    }
   },
   "source": [
    "## Suppression du sommet\n",
    "\n",
    "Dans un tas, le seul élément que l'on puisse supprimer est \n",
    "\n",
    "* le plus grand,\n",
    "* situé au sommet du tas, \n",
    "* en tête du tableau, à l'indice 0\n",
    "\n",
    "Mais un tas est un tableau, et la seule position d'où l'on peut supprimer efficacement un élément est en queue. On commence donc par échanger tête et queue. "
   ]
  },
  {
   "cell_type": "code",
   "execution_count": 9,
   "metadata": {
    "slideshow": {
     "slide_type": "subslide"
    }
   },
   "outputs": [
    {
     "name": "stdout",
     "output_type": "stream",
     "text": [
      "[16, 13, 14, 10, 2, 12, 6, 4, 8]\n",
      "[8, 13, 14, 10, 2, 12, 6, 4, 16]\n",
      "[8, 13, 14, 10, 2, 12, 6, 4]\n"
     ]
    },
    {
     "data": {
      "image/png": "[encoded data removed]",
      "text/plain": [
       "<IPython.core.display.Image object>"
      ]
     },
     "metadata": {},
     "output_type": "display_data"
    }
   ],
   "source": [
    "print(T); T[0],T[len(T)-1] = T[len(T)-1],T[0]\n",
    "print(T); T.pop()\n",
    "print(T); h.afficher_tas(T)"
   ]
  },
  {
   "cell_type": "markdown",
   "metadata": {},
   "source": [
    "Mais l'élément au sommet ne respecte pas la condition de tas. Il faut rétablir la condition de tas en le descendant. "
   ]
  },
  {
   "cell_type": "markdown",
   "metadata": {
    "slideshow": {
     "slide_type": "subslide"
    }
   },
   "source": [
    "Pour faire descendre un élément, on l'échange avec **le plus grand de ses enfants** jusqu'à ce qu'il respecte la condition de tas ou qu'il atteigne le fond. "
   ]
  },
  {
   "cell_type": "code",
   "execution_count": 10,
   "metadata": {
    "slideshow": {
     "slide_type": "-"
    }
   },
   "outputs": [],
   "source": [
    "def plus_grand_enfant(T,i):\n",
    "    pge, e2 = enfants(i)\n",
    "    if e2 < len(T) and T[e2] > T[pge]:\n",
    "        pge = e2\n",
    "    return pge\n",
    "    \n",
    "def descendre(T,i):\n",
    "    e = plus_grand_enfant(T,i)\n",
    "    while e < len(T) and T[i] < T[e]:\n",
    "        print(\"swap({},{})\".format(T[i],T[e]))\n",
    "        T[i],T[e] = T[e],T[i]\n",
    "        i = e\n",
    "        e = plus_grand_enfant(T,i)"
   ]
  },
  {
   "cell_type": "code",
   "execution_count": 11,
   "metadata": {
    "slideshow": {
     "slide_type": "subslide"
    }
   },
   "outputs": [
    {
     "name": "stdout",
     "output_type": "stream",
     "text": [
      "[8, 13, 14, 10, 2, 12, 6, 4]\n",
      "swap(8,14)\n",
      "swap(8,12)\n",
      "[14, 13, 12, 10, 2, 8, 6, 4]\n"
     ]
    },
    {
     "data": {
      "image/png": "[encoded data removed]",
      "text/plain": [
       "<IPython.core.display.Image object>"
      ]
     },
     "metadata": {},
     "output_type": "display_data"
    }
   ],
   "source": [
    "print(T); descendre(T,0)\n",
    "print(T); h.afficher_tas(T)"
   ]
  },
  {
   "cell_type": "markdown",
   "metadata": {
    "slideshow": {
     "slide_type": "subslide"
    }
   },
   "source": [
    "La suppression du sommet de l'élément au sommet du tas s'écrit donc "
   ]
  },
  {
   "cell_type": "code",
   "execution_count": 12,
   "metadata": {},
   "outputs": [],
   "source": [
    "def supprimer_sommet(T):\n",
    "    T[0],T[len(T)] = T[len(T)],T[0]\n",
    "    T.pop()\n",
    "    descendre(T,0)"
   ]
  },
  {
   "cell_type": "markdown",
   "metadata": {},
   "source": [
    "La complexité de l'opération est \n",
    "\n",
    "* $\\Theta(1)$ en pour l'échange et `T.pop()`\n",
    "* $\\Theta(\\log n)$ au pire pour `descendre(T,0)`\n",
    "\n",
    "Elle est donc logarithmique"
   ]
  },
  {
   "cell_type": "markdown",
   "metadata": {
    "slideshow": {
     "slide_type": "slide"
    }
   },
   "source": [
    "## Création d'un tas\n",
    "\n",
    "La manière la plus simple de transformer un tableau en tas est d'en insérer tous les éléments un par un.\n",
    "\n",
    "Effectuée en place, cette opération s'écrit"
   ]
  },
  {
   "cell_type": "code",
   "execution_count": 13,
   "metadata": {},
   "outputs": [],
   "source": [
    "def creer_tas_naif(T):\n",
    "    for i in range(1,len(T)):\n",
    "        remonter(T,i)"
   ]
  },
  {
   "cell_type": "code",
   "execution_count": 14,
   "metadata": {
    "slideshow": {
     "slide_type": "subslide"
    }
   },
   "outputs": [
    {
     "name": "stdout",
     "output_type": "stream",
     "text": [
      "swap(2,1)\n",
      "swap(5,2)\n",
      "swap(7,1)\n",
      "swap(7,5)\n",
      "swap(9,5)\n",
      "swap(9,7)\n",
      "swap(3,2)\n",
      "swap(4,3)\n",
      "swap(6,1)\n",
      "swap(8,6)\n",
      "swap(8,7)\n"
     ]
    },
    {
     "data": {
      "image/png": "[encoded data removed]",
      "text/plain": [
       "<IPython.core.display.Image object>"
      ]
     },
     "metadata": {},
     "output_type": "display_data"
    }
   ],
   "source": [
    "T = [ 1, 2, 5, 7, 9, 3, 4, 6, 8 ]\n",
    "creer_tas_naif(T); h.afficher_tas(T)"
   ]
  },
  {
   "cell_type": "markdown",
   "metadata": {
    "slideshow": {
     "slide_type": "subslide"
    }
   },
   "source": [
    "Cette approche a une complexité $\\Theta(n \\log n)$.\n",
    "\n",
    "Il est possible de faire mieux. \n",
    "\n",
    "* Plutôt que de monter les éléments du premier au dernier, \n",
    "* on les fait descendre du dernier au premier. \n",
    "\n",
    "plus exactement, on commence par le dernier élément à avoir des enfants, i.e. le parent du dernier élément"
   ]
  },
  {
   "cell_type": "code",
   "execution_count": 15,
   "metadata": {},
   "outputs": [],
   "source": [
    "def creer_tas(T):\n",
    "    for i in range(parent(len(T)-1),-1,-1):\n",
    "        descendre(T,i)"
   ]
  },
  {
   "cell_type": "markdown",
   "metadata": {
    "slideshow": {
     "slide_type": "subslide"
    }
   },
   "source": [
    "Visualisons l'algorithme"
   ]
  },
  {
   "cell_type": "code",
   "execution_count": 16,
   "metadata": {
    "slideshow": {
     "slide_type": "-"
    }
   },
   "outputs": [
    {
     "data": {
      "image/png": "[encoded data removed]",
      "text/plain": [
       "<IPython.core.display.Image object>"
      ]
     },
     "metadata": {},
     "output_type": "display_data"
    }
   ],
   "source": [
    "T = [ 1, 2, 5, 7, 9, 3, 4, 6, 8 ]\n",
    "h.afficher_tas(T)"
   ]
  },
  {
   "cell_type": "code",
   "execution_count": 17,
   "metadata": {},
   "outputs": [
    {
     "name": "stdout",
     "output_type": "stream",
     "text": [
      "swap(7,8)\n"
     ]
    }
   ],
   "source": [
    "descendre(T,3)"
   ]
  },
  {
   "cell_type": "code",
   "execution_count": 18,
   "metadata": {
    "slideshow": {
     "slide_type": "subslide"
    }
   },
   "outputs": [
    {
     "name": "stdout",
     "output_type": "stream",
     "text": [
      "[1, 2, 5, 8, 9, 3, 4, 6, 7]\n"
     ]
    },
    {
     "data": {
      "image/png": "[encoded data removed]",
      "text/plain": [
       "<IPython.core.display.Image object>"
      ]
     },
     "metadata": {},
     "output_type": "display_data"
    }
   ],
   "source": [
    "print(T); h.afficher_tas(T)"
   ]
  },
  {
   "cell_type": "code",
   "execution_count": 19,
   "metadata": {},
   "outputs": [],
   "source": [
    "descendre(T,2)"
   ]
  },
  {
   "cell_type": "code",
   "execution_count": 20,
   "metadata": {
    "slideshow": {
     "slide_type": "subslide"
    }
   },
   "outputs": [
    {
     "name": "stdout",
     "output_type": "stream",
     "text": [
      "[1, 2, 5, 8, 9, 3, 4, 6, 7]\n"
     ]
    },
    {
     "data": {
      "image/png": "[encoded data removed]",
      "text/plain": [
       "<IPython.core.display.Image object>"
      ]
     },
     "metadata": {},
     "output_type": "display_data"
    }
   ],
   "source": [
    "print(T); h.afficher_tas(T)"
   ]
  },
  {
   "cell_type": "code",
   "execution_count": 21,
   "metadata": {},
   "outputs": [
    {
     "name": "stdout",
     "output_type": "stream",
     "text": [
      "swap(2,9)\n"
     ]
    }
   ],
   "source": [
    "descendre(T,1)"
   ]
  },
  {
   "cell_type": "code",
   "execution_count": 22,
   "metadata": {
    "slideshow": {
     "slide_type": "subslide"
    }
   },
   "outputs": [
    {
     "name": "stdout",
     "output_type": "stream",
     "text": [
      "[1, 9, 5, 8, 2, 3, 4, 6, 7]\n"
     ]
    },
    {
     "data": {
      "image/png": "[encoded data removed]",
      "text/plain": [
       "<IPython.core.display.Image object>"
      ]
     },
     "metadata": {},
     "output_type": "display_data"
    }
   ],
   "source": [
    "print(T); h.afficher_tas(T)"
   ]
  },
  {
   "cell_type": "code",
   "execution_count": 23,
   "metadata": {},
   "outputs": [
    {
     "name": "stdout",
     "output_type": "stream",
     "text": [
      "swap(1,9)\n",
      "swap(1,8)\n",
      "swap(1,7)\n"
     ]
    }
   ],
   "source": [
    "descendre(T,0)"
   ]
  },
  {
   "cell_type": "code",
   "execution_count": 24,
   "metadata": {
    "slideshow": {
     "slide_type": "subslide"
    }
   },
   "outputs": [
    {
     "name": "stdout",
     "output_type": "stream",
     "text": [
      "[9, 8, 5, 7, 2, 3, 4, 6, 1]\n"
     ]
    },
    {
     "data": {
      "image/png": "[encoded data removed]",
      "text/plain": [
       "<IPython.core.display.Image object>"
      ]
     },
     "metadata": {},
     "output_type": "display_data"
    }
   ],
   "source": [
    "print(T); h.afficher_tas(T)"
   ]
  },
  {
   "cell_type": "markdown",
   "metadata": {
    "slideshow": {
     "slide_type": "subslide"
    }
   },
   "source": [
    "Comparons les deux approches"
   ]
  },
  {
   "cell_type": "code",
   "execution_count": 25,
   "metadata": {},
   "outputs": [
    {
     "name": "stdout",
     "output_type": "stream",
     "text": [
      "swap(3,7)\n",
      "swap(2,5)\n",
      "swap(1,7)\n",
      "swap(1,6)\n"
     ]
    },
    {
     "data": {
      "image/png": "[encoded data removed]",
      "text/plain": [
       "<IPython.core.display.Image object>"
      ]
     },
     "metadata": {},
     "output_type": "display_data"
    }
   ],
   "source": [
    "T = [ 1, 2, 3, 4, 5, 6, 7 ]; \n",
    "creer_tas(T); h.afficher_tas(T)"
   ]
  },
  {
   "cell_type": "code",
   "execution_count": 26,
   "metadata": {
    "slideshow": {
     "slide_type": "subslide"
    }
   },
   "outputs": [
    {
     "name": "stdout",
     "output_type": "stream",
     "text": [
      "swap(2,1)\n",
      "swap(3,2)\n",
      "swap(4,1)\n",
      "swap(4,3)\n",
      "swap(5,3)\n",
      "swap(5,4)\n",
      "swap(6,2)\n",
      "swap(6,5)\n",
      "swap(7,5)\n",
      "swap(7,6)\n"
     ]
    },
    {
     "data": {
      "image/png": "[encoded data removed]",
      "text/plain": [
       "<IPython.core.display.Image object>"
      ]
     },
     "metadata": {},
     "output_type": "display_data"
    }
   ],
   "source": [
    "T = [ 1, 2, 3, 4, 5, 6, 7 ]; \n",
    "creer_tas_naif(T); h.afficher_tas(T)"
   ]
  },
  {
   "cell_type": "markdown",
   "metadata": {
    "slideshow": {
     "slide_type": "subslide"
    }
   },
   "source": [
    "La **complexité** de l'algorithme de **création de tas** par descente est **linéaire** à la taille du tas. \n",
    "\n",
    "En effet, considérons le nombre maximum d'échanges pour la descente de l'élément d'indice `i`, en approximant les intervalles pour simplifier\n",
    "\n",
    "* `i` $\\in$ `[n/2,n[`, 0 échange\n",
    "* `i` $\\in$ `[n/4,n/2[`, 1 échange\n",
    "* `i` $\\in$ `[n/8,n/4[`, 2 échanges\n",
    "* `i` $\\in$ `[n/16,n/8[`, 3 échanges\n",
    "* ...\n",
    "* `i == 0`, $\\log n$ échanges\n",
    "\n",
    "La somme de tous ces termes est $\\Theta(n)$ "
   ]
  },
  {
   "cell_type": "markdown",
   "metadata": {
    "slideshow": {
     "slide_type": "slide"
    }
   },
   "source": [
    "## Tri par tas \n",
    "\n",
    "La structure de tas nous permet d'améliorer l'efficacité du tri par sélection. Pour rappel, celui-ci était "
   ]
  },
  {
   "cell_type": "code",
   "execution_count": 27,
   "metadata": {},
   "outputs": [],
   "source": [
    "def tri_par_selection(T):\n",
    "    N = len(T)\n",
    "    for i in range(0,N-1):\n",
    "        jMin = i\n",
    "        for j in range(i+1,N):\n",
    "            if T[j] < T[jMin]:\n",
    "                jMin = j\n",
    "        T[i],T[jMin] = T[jMin],T[i]"
   ]
  },
  {
   "cell_type": "markdown",
   "metadata": {},
   "source": [
    "la boucle interne sur `j` cherche le minimum de `T[i:N]` avec une complexité linéaire, ce qui entraine une complexité globale quadratique pour le tri.  "
   ]
  },
  {
   "cell_type": "markdown",
   "metadata": {
    "slideshow": {
     "slide_type": "subslide"
    }
   },
   "source": [
    "Le structure de tas nous permet de trouver le maximum en temps constant et de le supprimer en temps logarithmique. \n",
    "\n",
    "On réécrit le tri par sélection à l'envers pour pouvoir en profiter. "
   ]
  },
  {
   "cell_type": "code",
   "execution_count": 28,
   "metadata": {},
   "outputs": [],
   "source": [
    "def element_max(T,n):\n",
    "    el_max = 0\n",
    "    for j in range(1,n):\n",
    "        if T[j] > T[el_max]: el_max = j\n",
    "    return el_max\n",
    "\n",
    "def tri_par_selection_max(T):\n",
    "    for i in range(len(T)-1,0,-1):\n",
    "        m = element_max(T,i+1)\n",
    "        T[i],T[m] = T[m],T[i]\n",
    "        print(T[:i],T[i:])"
   ]
  },
  {
   "cell_type": "code",
   "execution_count": 29,
   "metadata": {
    "slideshow": {
     "slide_type": "subslide"
    }
   },
   "outputs": [
    {
     "name": "stdout",
     "output_type": "stream",
     "text": [
      "[4, 2, 7, 5, 6, 1, 3, 8] [9]\n",
      "[4, 2, 7, 5, 6, 1, 3] [8, 9]\n",
      "[4, 2, 3, 5, 6, 1] [7, 8, 9]\n",
      "[4, 2, 3, 5, 1] [6, 7, 8, 9]\n",
      "[4, 2, 3, 1] [5, 6, 7, 8, 9]\n",
      "[1, 2, 3] [4, 5, 6, 7, 8, 9]\n",
      "[1, 2] [3, 4, 5, 6, 7, 8, 9]\n",
      "[1] [2, 3, 4, 5, 6, 7, 8, 9]\n"
     ]
    }
   ],
   "source": [
    "T = [ 4, 2, 7, 5, 9, 1, 3, 8, 6 ]\n",
    "tri_par_selection_max(T)"
   ]
  },
  {
   "cell_type": "markdown",
   "metadata": {},
   "source": [
    "Pour améliorer cet algorithme, on va maintenir `T[:i]`, la partie non encore triée, sous forme de tas.  "
   ]
  },
  {
   "cell_type": "markdown",
   "metadata": {
    "slideshow": {
     "slide_type": "subslide"
    }
   },
   "source": [
    "Il faut pouvoir traiter comme un tas les $n$ premiers éléments d'un tableau plutôt que le tableau complet. On ré-écrit donc les fonctions "
   ]
  },
  {
   "cell_type": "code",
   "execution_count": 30,
   "metadata": {
    "slideshow": {
     "slide_type": "-"
    }
   },
   "outputs": [],
   "source": [
    "def plus_grand_enfant(T,i,n):\n",
    "    pge, e2 = enfants(i)\n",
    "    if e2 < n and T[e2] > T[pge]:\n",
    "        pge = e2\n",
    "    return pge\n",
    "    \n",
    "def descendre(T,i,n = None):\n",
    "    if n == None: n = len(T) \n",
    "    e = plus_grand_enfant(T,i,n)\n",
    "    while e < n and T[i] < T[e]:\n",
    "        T[i],T[e] = T[e],T[i]\n",
    "        i = e\n",
    "        e = plus_grand_enfant(T,i,n)"
   ]
  },
  {
   "cell_type": "markdown",
   "metadata": {
    "slideshow": {
     "slide_type": "subslide"
    }
   },
   "source": [
    "Cela nous permet d'écrire l'algorithme de tri par tas, de complexité linéarithmique $\\Theta(n \\log n)$"
   ]
  },
  {
   "cell_type": "code",
   "execution_count": 31,
   "metadata": {},
   "outputs": [],
   "source": [
    "def tri_par_tas(T):\n",
    "    creer_tas(T)\n",
    "    print(T)\n",
    "    for i in range(len(T)-1,0,-1):\n",
    "        T[i],T[0] = T[0],T[i]\n",
    "        descendre(T,0,i)\n",
    "        print(T[:i],T[i:])"
   ]
  },
  {
   "cell_type": "code",
   "execution_count": 32,
   "metadata": {
    "slideshow": {
     "slide_type": "subslide"
    }
   },
   "outputs": [
    {
     "name": "stdout",
     "output_type": "stream",
     "text": [
      "[8, 5, 7, 4, 1, 6, 3, 2]\n",
      "[7, 5, 6, 4, 1, 2, 3] [8]\n",
      "[6, 5, 3, 4, 1, 2] [7, 8]\n",
      "[5, 4, 3, 2, 1] [6, 7, 8]\n",
      "[4, 2, 3, 1] [5, 6, 7, 8]\n",
      "[3, 2, 1] [4, 5, 6, 7, 8]\n",
      "[2, 1] [3, 4, 5, 6, 7, 8]\n",
      "[1] [2, 3, 4, 5, 6, 7, 8]\n"
     ]
    }
   ],
   "source": [
    "T = [ 1, 2, 3, 4, 5, 6, 7, 8]\n",
    "tri_par_tas(T)\n",
    "\n",
    "# T[:i] est un tas, T[i:] est trié"
   ]
  },
  {
   "cell_type": "markdown",
   "metadata": {
    "slideshow": {
     "slide_type": "subslide"
    }
   },
   "source": [
    "Suivons l'exécution pas à pas"
   ]
  },
  {
   "cell_type": "code",
   "execution_count": 33,
   "metadata": {},
   "outputs": [
    {
     "name": "stdout",
     "output_type": "stream",
     "text": [
      "[7, 5, 6, 4, 2, 1, 3]\n"
     ]
    },
    {
     "data": {
      "image/png": "[encoded data removed]",
      "text/plain": [
       "<IPython.core.display.Image object>"
      ]
     },
     "metadata": {},
     "output_type": "display_data"
    }
   ],
   "source": [
    "T = [ 1, 2, 3, 4, 5, 6, 7 ]; creer_tas(T); \n",
    "print(T); h.afficher_tas(T)"
   ]
  },
  {
   "cell_type": "code",
   "execution_count": 35,
   "metadata": {},
   "outputs": [],
   "source": [
    "i = 6; T[i],T[0] = T[0],T[i]; descendre(T,0,i)"
   ]
  },
  {
   "cell_type": "code",
   "execution_count": 36,
   "metadata": {
    "slideshow": {
     "slide_type": "subslide"
    }
   },
   "outputs": [
    {
     "name": "stdout",
     "output_type": "stream",
     "text": [
      "[6, 5, 3, 4, 2, 1] [7]\n"
     ]
    },
    {
     "data": {
      "image/png": "[encoded data removed]",
      "text/plain": [
       "<IPython.core.display.Image object>"
      ]
     },
     "metadata": {},
     "output_type": "display_data"
    }
   ],
   "source": [
    "print(T[:i],T[i:]); h.afficher_tas(T[:i])"
   ]
  },
  {
   "cell_type": "code",
   "execution_count": 37,
   "metadata": {},
   "outputs": [],
   "source": [
    "i = 5; T[i],T[0] = T[0],T[i]; descendre(T,0,i)"
   ]
  },
  {
   "cell_type": "code",
   "execution_count": 38,
   "metadata": {
    "slideshow": {
     "slide_type": "subslide"
    }
   },
   "outputs": [
    {
     "name": "stdout",
     "output_type": "stream",
     "text": [
      "[5, 4, 3, 1, 2] [6, 7]\n"
     ]
    },
    {
     "data": {
      "image/png": "[encoded data removed]",
      "text/plain": [
       "<IPython.core.display.Image object>"
      ]
     },
     "metadata": {},
     "output_type": "display_data"
    }
   ],
   "source": [
    "print(T[:i],T[i:]); h.afficher_tas(T[:i])"
   ]
  },
  {
   "cell_type": "code",
   "execution_count": 39,
   "metadata": {},
   "outputs": [],
   "source": [
    "i = 4; T[i],T[0] = T[0],T[i]; descendre(T,0,i)"
   ]
  },
  {
   "cell_type": "code",
   "execution_count": 40,
   "metadata": {
    "slideshow": {
     "slide_type": "subslide"
    }
   },
   "outputs": [
    {
     "name": "stdout",
     "output_type": "stream",
     "text": [
      "[4, 2, 3, 1] [5, 6, 7]\n"
     ]
    },
    {
     "data": {
      "image/png": "[encoded data removed]",
      "text/plain": [
       "<IPython.core.display.Image object>"
      ]
     },
     "metadata": {},
     "output_type": "display_data"
    }
   ],
   "source": [
    "print(T[:i],T[i:]); h.afficher_tas(T[:i])"
   ]
  },
  {
   "cell_type": "code",
   "execution_count": 41,
   "metadata": {},
   "outputs": [],
   "source": [
    "i = 3; T[i],T[0] = T[0],T[i]; descendre(T,0,i)"
   ]
  },
  {
   "cell_type": "code",
   "execution_count": 42,
   "metadata": {
    "slideshow": {
     "slide_type": "subslide"
    }
   },
   "outputs": [
    {
     "name": "stdout",
     "output_type": "stream",
     "text": [
      "[3, 2, 1] [4, 5, 6, 7]\n"
     ]
    },
    {
     "data": {
      "image/png": "[encoded data removed]",
      "text/plain": [
       "<IPython.core.display.Image object>"
      ]
     },
     "metadata": {},
     "output_type": "display_data"
    }
   ],
   "source": [
    "print(T[:i],T[i:]); h.afficher_tas(T[:i])"
   ]
  },
  {
   "cell_type": "code",
   "execution_count": 43,
   "metadata": {},
   "outputs": [],
   "source": [
    "i = 2; T[i],T[0] = T[0],T[i]; descendre(T,0,i)"
   ]
  },
  {
   "cell_type": "code",
   "execution_count": 44,
   "metadata": {
    "slideshow": {
     "slide_type": "subslide"
    }
   },
   "outputs": [
    {
     "name": "stdout",
     "output_type": "stream",
     "text": [
      "[2, 1] [3, 4, 5, 6, 7]\n"
     ]
    },
    {
     "data": {
      "image/png": "[encoded data removed]",
      "text/plain": [
       "<IPython.core.display.Image object>"
      ]
     },
     "metadata": {},
     "output_type": "display_data"
    }
   ],
   "source": [
    "print(T[:i],T[i:]); h.afficher_tas(T[:i])"
   ]
  },
  {
   "cell_type": "code",
   "execution_count": null,
   "metadata": {},
   "outputs": [],
   "source": [
    "i = 1; T[i],T[0] = T[0],T[i]; descendre(T,0,i)"
   ]
  },
  {
   "cell_type": "code",
   "execution_count": null,
   "metadata": {
    "slideshow": {
     "slide_type": "subslide"
    }
   },
   "outputs": [],
   "source": [
    "print(T[:i],T[i:]); h.afficher_tas(T[:i])"
   ]
  },
  {
   "cell_type": "markdown",
   "metadata": {
    "slideshow": {
     "slide_type": "slide"
    }
   },
   "source": [
    "## Conclusions\n",
    "\n",
    "Un tas est un tableau de $n$ éléments organisé de manière à respecter la condition de tas. On peut le concevoir mentalement comme un arbre binaire.\n",
    "\n",
    "L'**insertion** a une complexité $\\Theta(\\log n)$.\n",
    "\n",
    "Le **sommet** du tas est à l'indice $0$. On le trouve en $\\Theta(1)$.\n",
    "\n",
    "**Supprimer le sommet** du tas a une complexité $\\Theta(\\log n)$.\n",
    "\n",
    "**Créer un tas** à partir d'un tableau a une complexité $\\Theta(n)$.\n",
    "\n",
    "Le **tri par tas** améliore le tri par sélection en utilisant un tas pour trouver le maximum. Il a une complexité $\\Theta(n \\log n)$."
   ]
  },
  {
   "cell_type": "markdown",
   "metadata": {
    "slideshow": {
     "slide_type": "slide"
    }
   },
   "source": [
    "<table style=\"width: 100%; border: 0px\">\n",
    "<tr style=\"background-color:white; border:0px\">\n",
    "<td style=\"width: 120px; border: 0px\">\n",
    "    <img src=\"https://heig-vd.ch/ResourcePackages/WhiteFox/assets/images/logo-heig-vd.svg\" height=200px align=left >\n",
    "    </td>\n",
    "    <td style=\"vertical-align: middle; border: 0px\" height=200px>\n",
    "    <p style=\"text-align: left\">\n",
    "        <a href=\"https://ocuisenaire.github.io/ASD1-notebooks/\">ASD1 Notebooks on GitHub.io</a>\n",
    " </p>        \n",
    "<p style=\"text-align: left\">\n",
    "© Olivier Cuisenaire, 2018 </p>\n",
    "</td>\n",
    "</tr>\n",
    "</table>"
   ]
  },
  {
   "cell_type": "markdown",
   "metadata": {},
   "source": [
    "<style type=\"text/css\">\n",
    ".reveal {\n",
    "font-size: 200%;\n",
    "}</style>"
   ]
  },
  {
   "cell_type": "code",
   "execution_count": null,
   "metadata": {},
   "outputs": [],
   "source": []
  }
 ],
 "metadata": {
  "celltoolbar": "Slideshow",
  "kernelspec": {
   "display_name": "Python 3",
   "language": "python",
   "name": "python3"
  },
  "language_info": {
   "codemirror_mode": {
    "name": "ipython",
    "version": 3
   },
   "file_extension": ".py",
   "mimetype": "text/x-python",
   "name": "python",
   "nbconvert_exporter": "python",
   "pygments_lexer": "ipython3",
   "version": "3.6.5"
  }
 },
 "nbformat": 4,
 "nbformat_minor": 2
}
