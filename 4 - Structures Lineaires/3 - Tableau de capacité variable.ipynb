{
 "cells": [
  {
   "cell_type": "markdown",
   "metadata": {
    "slideshow": {
     "slide_type": "slide"
    }
   },
   "source": [
    "# Tableau de capacité variable"
   ]
  },
  {
   "cell_type": "markdown",
   "metadata": {
    "slideshow": {
     "slide_type": "slide"
    }
   },
   "source": [
    "## Principe \n",
    "\n",
    "Trois attributs sont nécessaires\n",
    "\n",
    "* l'addresse _variable_ de début des données\n",
    "* la capacité _variable_\n",
    "* la taille _variable_\n",
    "\n",
    "Ce sont les mêmes attributs que pour un tableau de capacité fixe, mais deux d'entre eux sont maintenant _variables_ et plus _constants_\n",
    "\n",
    "* la capacité \n",
    "* l'emplacement mémoire où l'on stocke des données"
   ]
  },
  {
   "cell_type": "markdown",
   "metadata": {
    "slideshow": {
     "slide_type": "subslide"
    }
   },
   "source": [
    "On peut donc réutiliser le tableau de capacité fixe comme base"
   ]
  },
  {
   "cell_type": "code",
   "execution_count": 1,
   "metadata": {},
   "outputs": [],
   "source": [
    "import include.tableau_capacite_fixe as h\n",
    "\n",
    "class Tableau:   \n",
    "    def __init__(self):\n",
    "        self.data = []\n",
    "        self.capacite = 0\n",
    "        self.taille = 0\n",
    "        \n",
    "# Methodes de tableau de taille fixe\n",
    "    __str__     = h.convertir_en_texte\n",
    "    __len__     = h.taille\n",
    "    __getitem__ = h.lire_valeur\n",
    "    __setitem__ = h.ecrire_valeur\n",
    "    def __pop__(i = -1):\n",
    "        if i >= 0: h.supprimer_en_position(self,i)\n",
    "        else: h.supprimer_en_queue(self)"
   ]
  },
  {
   "cell_type": "markdown",
   "metadata": {
    "slideshow": {
     "slide_type": "subslide"
    }
   },
   "source": [
    "Mais nous n'utiliserons plus la fonction  "
   ]
  },
  {
   "cell_type": "code",
   "execution_count": 2,
   "metadata": {},
   "outputs": [],
   "source": [
    "def verifier_place_disponible(T,besoin = 1):\n",
    "    if T.taille + besoin > T.capacite:\n",
    "        raise Exception(\"capacité insuffisante\")"
   ]
  },
  {
   "cell_type": "markdown",
   "metadata": {
    "slideshow": {
     "slide_type": "fragment"
    }
   },
   "source": [
    "En cas de capacité insuffisante, on l'augmentera sans que cela ne perturbe l'exécution. Ce changement concerne donc les fonctions  \n",
    "\n",
    "* `inserer_en_queue(T,valeur)`\n",
    "* `inserer_en_position(T,indice,valeur)`\n",
    "* `redimensionner(T,taille_demandee,valeur = 0)`\n",
    "\n",
    "à laquelle on ajoutera éventuellement une fonction `reserver_capacite(T,capacite)`. "
   ]
  },
  {
   "cell_type": "markdown",
   "metadata": {
    "slideshow": {
     "slide_type": "slide"
    }
   },
   "source": [
    "## Insérer en queue\n",
    "\n",
    "On remplace l'appel à `verifier_place_disponible` par le code augmentant la capacité\n",
    "\n",
    "La stratégie la plus courrante consiste à passer de 0 à 1, puis à **doubler la capacité** si nécessaire. \n",
    "\n",
    "Il ne faut **déplacer** le contenu de l'ancien au nouvel espace en mémoire, et - si le langage le demande - **détruire** l'ancien espace. "
   ]
  },
  {
   "cell_type": "code",
   "execution_count": 3,
   "metadata": {
    "slideshow": {
     "slide_type": "fragment"
    }
   },
   "outputs": [],
   "source": [
    "def inserer_en_queue(T,valeur):\n",
    "    if T.taille >= T.capacite:\n",
    "        T.capacite = 2 * T.capacite if T.capacite > 0 else 1\n",
    "        tmp = [None]*T.capacite\n",
    "        tmp[0:T.taille] = T.data[0:T.taille]\n",
    "        T.data = tmp\n",
    "        \n",
    "    T.data[T.taille] = valeur\n",
    "    T.taille += 1"
   ]
  },
  {
   "cell_type": "markdown",
   "metadata": {
    "slideshow": {
     "slide_type": "subslide"
    }
   },
   "source": [
    "L'insertion sans changement de capacité est simplement \n",
    "\n",
    "![insertion1](include/push_back_1.png)"
   ]
  },
  {
   "cell_type": "markdown",
   "metadata": {
    "slideshow": {
     "slide_type": "fragment"
    }
   },
   "source": [
    "Tandis que celle avec changement de capacité devient\n",
    "\n",
    "![insertion2](include/push_back_2.png)"
   ]
  },
  {
   "cell_type": "code",
   "execution_count": 4,
   "metadata": {
    "slideshow": {
     "slide_type": "subslide"
    }
   },
   "outputs": [
    {
     "name": "stdout",
     "output_type": "stream",
     "text": [
      "T(0/0): []\n",
      "T(1/1): [0]\n",
      "T(2/2): [0, 1]\n",
      "T(3/4): [0, 1, 4, None]\n",
      "T(4/4): [0, 1, 4, 9]\n",
      "T(5/8): [0, 1, 4, 9, 16, None, None, None]\n",
      "T(6/8): [0, 1, 4, 9, 16, 25, None, None]\n",
      "T(7/8): [0, 1, 4, 9, 16, 25, 36, None]\n",
      "T(8/8): [0, 1, 4, 9, 16, 25, 36, 49]\n",
      "T(9/16): [0, 1, 4, 9, 16, 25, 36, 49, 64, None, None, None, None, None, None, None]\n"
     ]
    }
   ],
   "source": [
    "T = Tableau()\n",
    "print(T)\n",
    "    \n",
    "for i in range(9):\n",
    "    inserer_en_queue(T,i*i)\n",
    "    print(T)"
   ]
  },
  {
   "cell_type": "markdown",
   "metadata": {
    "slideshow": {
     "slide_type": "slide"
    }
   },
   "source": [
    "## Insérer en position\n",
    "\n",
    "La seule différence avec l'insertion en queue est qu'il faut déplacer les éléments d'incides `[indice,taille[` de 1 vers la droite avant d'écrire à l'indice demandé. \n",
    "\n",
    "Lors des réallocations, le déplacement s'effectue en une seule fois de `data` à `tmp` et de 1 position vers la droite. "
   ]
  },
  {
   "cell_type": "code",
   "execution_count": 5,
   "metadata": {
    "slideshow": {
     "slide_type": "fragment"
    }
   },
   "outputs": [],
   "source": [
    "def inserer_en_position(T,i,valeur):\n",
    "    if T.taille >= T.capacite:     \n",
    "        T.capacite = 2 * T.capacite if T.capacite > 0 else 1\n",
    "        tmp = [None]*T.capacite\n",
    "        tmp[0:i] = T.data[0:i]\n",
    "        tmp[T.taille:i:-1] = T.data[T.taille-1:i-1:-1]\n",
    "        T.data = tmp\n",
    "    else:\n",
    "        T.data[T.taille:i:-1] = T.data[T.taille-1:i-1:-1]\n",
    "        \n",
    "    T.data[i] = valeur\n",
    "    T.taille += 1"
   ]
  },
  {
   "cell_type": "markdown",
   "metadata": {
    "slideshow": {
     "slide_type": "subslide"
    }
   },
   "source": [
    "L'insertion sans changement de capacité est simplement \n",
    "\n",
    "![insertion1](include/insert_1.png)"
   ]
  },
  {
   "cell_type": "markdown",
   "metadata": {
    "slideshow": {
     "slide_type": "fragment"
    }
   },
   "source": [
    "Tandis que celle avec changement de capacité devient\n",
    "\n",
    "![insertion2](include/insert_2.png)"
   ]
  },
  {
   "cell_type": "code",
   "execution_count": 6,
   "metadata": {
    "slideshow": {
     "slide_type": "subslide"
    }
   },
   "outputs": [
    {
     "name": "stdout",
     "output_type": "stream",
     "text": [
      "T(0/0): []\n",
      "0 T(1/1): [0]\n",
      "1 T(2/2): [0, 1]\n",
      "1 T(3/4): [0, 4, 1, None]\n",
      "2 T(4/4): [0, 4, 9, 1]\n",
      "2 T(5/8): [0, 4, 16, 9, 1, None, None, None]\n",
      "3 T(6/8): [0, 4, 16, 25, 9, 1, None, None]\n",
      "3 T(7/8): [0, 4, 16, 36, 25, 9, 1, None]\n",
      "4 T(8/8): [0, 4, 16, 36, 49, 25, 9, 1]\n",
      "4 T(9/16): [0, 4, 16, 36, 64, 49, 25, 9, 1, None, None, None, None, None, None, None]\n"
     ]
    }
   ],
   "source": [
    "T = Tableau()\n",
    "print(T)\n",
    "    \n",
    "for i in range(9):\n",
    "    pos = ( len(T) + 1 )// 2\n",
    "    inserer_en_position(T,pos,i*i)\n",
    "    print(pos,T)"
   ]
  },
  {
   "cell_type": "markdown",
   "metadata": {
    "slideshow": {
     "slide_type": "slide"
    }
   },
   "source": [
    "## Redimensionner\n",
    "\n",
    "Redimensionner utilise le même code de réallocation que d'insérer en queue. Ensuite, on ajoute les nouveau éléments ou en détruit les anciens selon que la taille augmente ou diminue. "
   ]
  },
  {
   "cell_type": "code",
   "execution_count": 7,
   "metadata": {},
   "outputs": [],
   "source": [
    "def redimensionner(T,taille_demandee,valeur = 0):\n",
    "    diff = taille_demandee - T.taille\n",
    "\n",
    "    if taille_demandee >= T.capacite:\n",
    "        T.capacite = taille_demandee\n",
    "        tmp = [None]*T.capacite\n",
    "        tmp[0:T.taille] = T.data[0:T.taille]\n",
    "        T.data = tmp\n",
    "\n",
    "    if diff > 0:\n",
    "        T.data[T.taille:taille_demandee] = [valeur]*diff\n",
    "    else:\n",
    "        T.data[taille_demandee:T.taille] = [None]*-diff\n",
    "        \n",
    "    T.taille = taille_demandee"
   ]
  },
  {
   "cell_type": "code",
   "execution_count": 8,
   "metadata": {
    "slideshow": {
     "slide_type": "subslide"
    }
   },
   "outputs": [
    {
     "name": "stdout",
     "output_type": "stream",
     "text": [
      "T(5/8): [0, 1, 2, 3, 4, None, None, None]\n",
      "T(3/8): [0, 1, 2, None, None, None, None, None]\n",
      "T(6/8): [0, 1, 2, 42, 42, 42, None, None]\n",
      "T(11/11): [0, 1, 2, 42, 42, 42, -1, -1, -1, -1, -1]\n"
     ]
    }
   ],
   "source": [
    "T = Tableau()\n",
    "for i in range(5): inserer_en_queue(T,i)\n",
    "print(T)\n",
    "redimensionner(T,3)\n",
    "print(T)\n",
    "redimensionner(T,6,42)\n",
    "print(T)\n",
    "redimensionner(T,11,-1)\n",
    "print(T)"
   ]
  },
  {
   "cell_type": "markdown",
   "metadata": {
    "slideshow": {
     "slide_type": "slide"
    }
   },
   "source": [
    "## Faut-il diminuer la capacité?\n",
    "\n",
    "Pas vraiment. \n",
    "\n",
    "En C++, la STL  \n",
    "\n",
    "* ne le fait pas automatiquement\n",
    "* ne fournit `std::vector::shrink_to_fit()` que depuis C++11. "
   ]
  },
  {
   "cell_type": "markdown",
   "metadata": {
    "slideshow": {
     "slide_type": "fragment"
    }
   },
   "source": [
    "Si on veut le faire automatiquement, il faut choisir un *critère différent* de celui d'augmentation. Par exemple\n",
    "\n",
    "* multiplier par deux la capacité si `taille >= capacite`\n",
    "* diviser par deux la capacité si `taille < capacite / 4`"
   ]
  },
  {
   "cell_type": "markdown",
   "metadata": {
    "slideshow": {
     "slide_type": "slide"
    }
   },
   "source": [
    "## Complexité\n",
    "\n",
    "Pour mesurer la complexité de l'opération d'insertion en queue avec réallocation en cas de capacité insuffisante, comptons les écritures dans les tableaux."
   ]
  },
  {
   "cell_type": "code",
   "execution_count": 9,
   "metadata": {
    "slideshow": {
     "slide_type": "-"
    }
   },
   "outputs": [],
   "source": [
    "def inserer_en_queue_cnt(T,valeur):  \n",
    "    cnt = 0\n",
    "    if T.taille >= T.capacite:\n",
    "        T.capacite = 2 * T.capacite if T.capacite > 0 else 1\n",
    "        tmp = [None]*T.capacite\n",
    "        tmp[0:T.taille] = T.data[0:T.taille]; cnt += T.taille \n",
    "        T.data = tmp\n",
    "        \n",
    "    T.data[T.taille] = valeur; cnt += 1 \n",
    "    T.taille += 1\n",
    "    return cnt"
   ]
  },
  {
   "cell_type": "markdown",
   "metadata": {
    "slideshow": {
     "slide_type": "subslide"
    }
   },
   "source": [
    "Intéressons nous au remplissage d'un tableau originellement vide en appelant $n$ fois `inserer_en_queue`"
   ]
  },
  {
   "cell_type": "code",
   "execution_count": 10,
   "metadata": {
    "slideshow": {
     "slide_type": "skip"
    }
   },
   "outputs": [],
   "source": [
    "n = 10"
   ]
  },
  {
   "cell_type": "code",
   "execution_count": 11,
   "metadata": {},
   "outputs": [],
   "source": [
    "T = Tableau(); \n",
    "for i in range(n): inserer_en_queue(T,i*i)"
   ]
  },
  {
   "cell_type": "markdown",
   "metadata": {
    "slideshow": {
     "slide_type": "fragment"
    }
   },
   "source": [
    "La complexité de l'insertion de $n$ semble linéaire en $n$"
   ]
  },
  {
   "cell_type": "code",
   "execution_count": 16,
   "metadata": {
    "slideshow": {
     "slide_type": "-"
    }
   },
   "outputs": [
    {
     "data": {
      "image/png": "[encoded data removed]",
      "text/plain": [
       "<Figure size 432x288 with 1 Axes>"
      ]
     },
     "metadata": {},
     "output_type": "display_data"
    }
   ],
   "source": [
    "import include.tableau_capacite_variable as ext\n",
    "ext.affiche_complexite_1(Tableau,inserer_en_queue_cnt)"
   ]
  },
  {
   "cell_type": "markdown",
   "metadata": {
    "slideshow": {
     "slide_type": "subslide"
    }
   },
   "source": [
    "Un graphique linéraire nous donne une meilleure vue. Les nombre d'écritures varie entre 2 et 3 fois la taille."
   ]
  },
  {
   "cell_type": "code",
   "execution_count": 13,
   "metadata": {
    "slideshow": {
     "slide_type": "-"
    }
   },
   "outputs": [
    {
     "data": {
      "image/png": "[encoded data removed]",
      "text/plain": [
       "<Figure size 432x288 with 1 Axes>"
      ]
     },
     "metadata": {},
     "output_type": "display_data"
    }
   ],
   "source": [
    "ext.affiche_complexite_2(Tableau,inserer_en_queue_cnt)"
   ]
  },
  {
   "cell_type": "markdown",
   "metadata": {
    "slideshow": {
     "slide_type": "subslide"
    }
   },
   "source": [
    "La complexité d'une seule opération d'insertion est la plupart du temps $\\Theta(1)$. Il n'y a pas de redimensionnement, ce qui est le meilleur cas.\n",
    "\n",
    "Elle est $\\Theta(n)$ quand on doit augmenter la capacité, i.e. pour $n = 2^k+1$ avec $k$ entier, les pires cas."
   ]
  },
  {
   "cell_type": "code",
   "execution_count": 14,
   "metadata": {
    "slideshow": {
     "slide_type": "-"
    }
   },
   "outputs": [
    {
     "data": {
      "image/png": "[encoded data removed]",
      "text/plain": [
       "<Figure size 432x288 with 1 Axes>"
      ]
     },
     "metadata": {},
     "output_type": "display_data"
    }
   ],
   "source": [
    "ext.affiche_complexite_3(Tableau,inserer_en_queue_cnt)"
   ]
  },
  {
   "cell_type": "markdown",
   "metadata": {
    "slideshow": {
     "slide_type": "subslide"
    }
   },
   "source": [
    "En moyenne, la complexité de `inserer_en_queue` est constante $\\Theta(1)$."
   ]
  },
  {
   "cell_type": "code",
   "execution_count": 15,
   "metadata": {
    "slideshow": {
     "slide_type": "-"
    }
   },
   "outputs": [
    {
     "data": {
      "image/png": "[encoded data removed]",
      "text/plain": [
       "<Figure size 432x288 with 1 Axes>"
      ]
     },
     "metadata": {},
     "output_type": "display_data"
    }
   ],
   "source": [
    "ext.affiche_complexite_4(Tableau,inserer_en_queue_cnt)"
   ]
  },
  {
   "cell_type": "markdown",
   "metadata": {
    "slideshow": {
     "slide_type": "slide"
    }
   },
   "source": [
    "<table style=\"width: 100%; border: 0px\">\n",
    "<tr style=\"background-color:white; border:0px\">\n",
    "<td style=\"width: 120px; border: 0px\">\n",
    "    <img src=\"https://heig-vd.ch/ResourcePackages/WhiteFox/assets/images/logo-heig-vd.svg\" height=200px align=left >\n",
    "    </td>\n",
    "    <td style=\"vertical-align: middle; border: 0px\" height=200px>\n",
    "    <p style=\"text-align: left\">\n",
    "        <a href=\"https://ocuisenaire.github.io/ASD1-notebooks/\">ASD1 Notebooks on GitHub.io</a>\n",
    " </p>        \n",
    "<p style=\"text-align: left\">\n",
    "© Olivier Cuisenaire, 2018 </p>\n",
    "</td>\n",
    "</tr>\n",
    "</table>"
   ]
  },
  {
   "cell_type": "raw",
   "metadata": {},
   "source": [
    "<style type=\"text/css\">\n",
    ".reveal {\n",
    "font-size: 200%;\n",
    "}</style>"
   ]
  },
  {
   "cell_type": "code",
   "execution_count": null,
   "metadata": {},
   "outputs": [],
   "source": []
  }
 ],
 "metadata": {
  "celltoolbar": "Slideshow",
  "kernelspec": {
   "display_name": "Python 3",
   "language": "python",
   "name": "python3"
  },
  "language_info": {
   "codemirror_mode": {
    "name": "ipython",
    "version": 3
   },
   "file_extension": ".py",
   "mimetype": "text/x-python",
   "name": "python",
   "nbconvert_exporter": "python",
   "pygments_lexer": "ipython3",
   "version": "3.6.5"
  }
 },
 "nbformat": 4,
 "nbformat_minor": 2
}
